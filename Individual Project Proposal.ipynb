{
 "cells": [
  {
   "cell_type": "markdown",
   "id": "0e50350a",
   "metadata": {},
   "source": [
    "**Research Question One**  \n",
    "Does relationship status influence current time interacting with friends?\n",
    "\n",
    "**Variables**  \n",
    "DEMO_relationship_status (2021_cross)  \n",
    "CONNECTION_social_time_friends_p7d_grouped (2021_cross)  \n",
    "  \n",
    "This can note whether having certain specific interpersonal relationships decrease or increase social connections, hence, looking into meaningful interactions.\n",
    "\n",
    "**Analysis**  \n",
    "I will construct histograms per category of relationship status, previously married/widowed, married, single, or currently dating/engaged. Time spent with friends (CONNECTION_social_time_friends_p7d_grouped) will be quantified along the x-axis and how often people fall under the category will be quantified along the y-axis. This can visualize the amount of time spent with friends depending on the different relationship status categories. The peaks and skews of each histogram will vary in location depending on how often they spend time with friends.\n",
    "\n",
    "**Hypothesis/Results and Discussion**  \n",
    "Those that are either single or in relationships but not yet married spend the most time with their friends as they might either be looking to find a partner or are not yet in a position to be settled down yet, hence spending more time out with friends. Those married are more focused on family, meaning less time spent with friends, and those previously married/widowed are in between. The peaks will all be at different values."
   ]
  },
  {
   "cell_type": "markdown",
   "id": "a97ab77d",
   "metadata": {},
   "source": [
    "**Research Question Two**  \n",
    "Do those who believe in a God have a different level of life satisfaction than those who do not?\n",
    "\n",
    "**Variables**  \n",
    "PSYCH_cope_60_inventory_trust_god (2023_cross)  \n",
    "WELLNESS_life_satisfaction (2023_cross)  \n",
    "  \n",
    "Does religion play a role in how satisfied we are with our lives?\n",
    "\n",
    "**Analysis**  \n",
    "I will use bar plots where each plot visualizes the life satisfaction of an individual depending on whether they believe, don’t and are unsure. The numbers 1-10 representing life satisfaction will span the x-axis and the amount of people that believe in each category of life satisfaction will be visualized by the height of each bar. Each bar plot will provide a visual for skew if it exists, and distribution patterns per category.\n",
    "\n",
    "**Hypothesis/Results and Discussion**  \n",
    "Overlapping the bar plots should show similar distributions, proving belief in God has no relation to one’s life satisfaction. "
   ]
  },
  {
   "cell_type": "markdown",
   "id": "0bba5187",
   "metadata": {},
   "source": [
    "**Research Question Three**  \n",
    "Does the likelihood of interacting with strangers increase with age?\n",
    "\n",
    "**Variables**  \n",
    "DEMO_age (2022_cross)  \n",
    "CONNECTION_comfort_talking_with_strangers (2022_cross)  \n",
    "  \n",
    "This can determine whether age can impact one's willingness to socialise with strangers, a large group of people present in everyone’s lives.  \n",
    "\n",
    "**Analysis**  \n",
    "I will make a linear regression model, plotting points depending on DEMO_age as the label for the x-axis and CONNECTION_comfort_talking_with_strangers quantified in the y-axis. If there is a minimal slope, or no visible linear path that the data follows, it can be proven that age does not influence how comfortable each person is regarding socialising with strangers.\n",
    "\n",
    "**Hypothesis/Results and Discussion**  \n",
    "I think that the data points will have a slightly positive slope, since with age, we get more comfortable in our society. This ties into being comfortable with interacting with other members of our communities, even if we may not know them."
   ]
  }
 ],
 "metadata": {
  "kernelspec": {
   "display_name": "Python 3 (ipykernel)",
   "language": "python",
   "name": "python3"
  },
  "language_info": {
   "codemirror_mode": {
    "name": "ipython",
    "version": 3
   },
   "file_extension": ".py",
   "mimetype": "text/x-python",
   "name": "python",
   "nbconvert_exporter": "python",
   "pygments_lexer": "ipython3",
   "version": "3.11.6"
  }
 },
 "nbformat": 4,
 "nbformat_minor": 5
}
